{
 "cells": [
  {
   "cell_type": "markdown",
   "metadata": {},
   "source": [
    "# Selenium"
   ]
  },
  {
   "cell_type": "markdown",
   "metadata": {},
   "source": [
    "## Instanciando o webdriver\n"
   ]
  },
  {
   "cell_type": "markdown",
   "metadata": {},
   "source": [
    "O Selenium usa suas classes e um arquivo webdriver para automatizar os recursos do browser.\n",
    "\n",
    "- webdriver - É o arquivo que permite a automatização do browser  \n",
    "- service - Classe do Selenium que aponta a localização dos bibários do webdriver  \n",
    "\n",
    "Isso acarretava um problema de compatibilidade entre alguns computadores, pois era necessário que fosse feito o download do binário do driver compatível com a versão do navegador instalado no computador.\n",
    "\n",
    "```python\n",
    "    from Selenium import webdriver\n",
    "    from selenium.webdriver.chrome.service import Service\n",
    "\n",
    "    service = Service('path/chromedriver.exe')\n",
    "    # abre a instancia do navegador\n",
    "    driver = Webdriver.Chrome(service=service)\n",
    "```\n",
    "\n",
    "Uma alternativa a isso é utilizar a biblioteca [```webdriver-manager```](https://pypi.org/project/webdriver-manager/) que já faz o gerenciamento do driver correspondente ao navegador\n",
    "\n",
    "Importação na nova versão do Selenium:"
   ]
  },
  {
   "cell_type": "code",
   "execution_count": 9,
   "metadata": {},
   "outputs": [],
   "source": [
    "from selenium import webdriver\n",
    "from selenium.webdriver.chrome.service import Service\n",
    "from webdriver_manager.chrome import ChromeDriverManager\n",
    "\n",
    "service = Service(ChromeDriverManager().install())\n",
    "driver = webdriver.Chrome(service=service)"
   ]
  },
  {
   "cell_type": "code",
   "execution_count": 23,
   "metadata": {},
   "outputs": [],
   "source": [
    "# para abrir uma página podemos usar o método get, passando o link que será aberto pelo navegador\n",
    "driver.get('https://selenium-python.readthedocs.io/')"
   ]
  },
  {
   "cell_type": "markdown",
   "metadata": {},
   "source": [
    "## Navegando entre elementos na tela"
   ]
  },
  {
   "cell_type": "markdown",
   "metadata": {},
   "source": [
    "### Pegando elementos na tela\n",
    " "
   ]
  },
  {
   "cell_type": "markdown",
   "metadata": {},
   "source": [
    "\n",
    "Para [capturar um elemento na tela](https://selenium-python.readthedocs.io/locating-elements.html) temos dois métodos principais:\n",
    "\n",
    "`find_element` e `find_elements` que retornam um elemento único e uma lista de elementos respectivamente.\n",
    "\n",
    "Alem de apontar que estamos solicitando um elemento na tela, devemos informar o ***modo como deverá ser buscado*** esse elemento com a classe `By` do Selenium \n",
    "```python\n",
    "    from selenium.webdriver.common.by import By\n",
    "```\n",
    "\n",
    "| Atributos da classe By      | Descrição |\n",
    "| ----------- | ----------- |\n",
    "| ID | Busca pelo atributo id       |\n",
    "| NAME | Busca pela atributo name  |\n",
    "| LINK_TEXT | Busca no texto do link (texto exato)|\n",
    "| PARTIAL_LINK_TEXT | Busca em parte do texto do link |\n",
    "| XPATH | Busca pelo xpath do elemento |\n",
    "| TAG_NAME | Busca pelo nome da tag do elemento (e.g. \"h1\") |\n",
    "| CLASS_NAME | Busca o elemento pela sua classe css |\n",
    "| CSS_SELECTOR | Busca pela sua sintaxe CSS (e.g. uma tag \\<p> com uma class='content' -> driver.find_element(By.CSS_SELECTOR, 'p.content'))|\n"
   ]
  },
  {
   "cell_type": "code",
   "execution_count": 16,
   "metadata": {},
   "outputs": [],
   "source": [
    "from selenium.webdriver.common.by import By\n",
    "\n",
    "# Encontrando um unico elemento\n",
    "driver.find_element(By.LINK_TEXT,\"4. Locating Elements\").click()"
   ]
  },
  {
   "cell_type": "code",
   "execution_count": 32,
   "metadata": {},
   "outputs": [
    {
     "name": "stdout",
     "output_type": "stream",
     "text": [
      "4. Locating Elements\n",
      "4.1. Locating by Id\n",
      "4.2. Locating by Name\n",
      "4.3. Locating by XPath\n",
      "4.4. Locating Hyperlinks by Link Text\n",
      "4.5. Locating Elements by Tag Name\n",
      "4.6. Locating Elements by Class Name\n",
      "4.7. Locating Elements by CSS Selectors\n",
      "4. Locating Elements\n"
     ]
    }
   ],
   "source": [
    "# encontrando vários elementos com find_elements\n",
    "elements_list = driver.find_elements(By.CLASS_NAME, \"toctree-l1\")\n",
    "\n",
    "for i in elements_list:\n",
    "    if 'LOCATING ELEMENTS' in i.text.upper():\n",
    "        print(i.text)"
   ]
  },
  {
   "cell_type": "markdown",
   "metadata": {},
   "source": [
    "### WebElement\n"
   ]
  },
  {
   "cell_type": "markdown",
   "metadata": {},
   "source": [
    "Os elementos capturados com o find elements são derivados da classe [Web Element](https://www.selenium.dev/selenium/docs/api/py/webdriver_remote/selenium.webdriver.remote.webelement.html) do Selenium, que representa um elemento DOM e possuem as funções de interação com campos e formulários\n",
    "\n",
    "\n",
    "|Function|Descrição|\n",
    "|---|---|\n",
    "|accessible_name| Retorna o nome assessível seguindo os princípios de [ARIA](https://developer.mozilla.org/en-US/docs/Web/Accessibility/ARIA)|\n",
    "|aria_role|Retorna a regra de acessibilidade [ARIA](https://developer.mozilla.org/en-US/docs/Web/Accessibility/ARIA)|\n",
    "|clear|Limpa o texto em um elemento de entrada de texto|\n",
    "|click|Clica no elemento|\n",
    "|find_element|Retorna um elemento buscado|\n",
    "|find_elements|Retorna uma lista de elementos|\n",
    "|get_attribute|Retorna o atributo fornecido|\n",
    "|get_dom_attribute|Retorna o atributo fornecido, este método retorna apenas atributos declarados na marcação HTML do elemento.|\n",
    "|get_property|Retorna a propriedade fornecida|\n",
    "|id|Retorna o identificador interno do Selenium|\n",
    "|is_displayed|Retorna se o elemento está visivel para o usuário|\n",
    "|is_enabled|Retorna se o elemento está habilitado|\n",
    "|is_selected|Retorna se o elemento está selecionado|\n",
    "|location|Retorna a localização do elemento na tela|\n",
    "|location_once_scrolled_into_view|Retorna onde um elemento está na tela para que possamos clicar nele. Este método deve fazer com que o elemento seja exibido|\n",
    "|parent|Referência interna à instância do WebDriver na qual este elemento foi encontrado|\n",
    "|rect|Um dicionário com o tamanho e localização do elemento.|\n",
    "|screenshot|Salva uma captura de tela com formato PNG (recebe o caminho de onde deve ser salvo a imagem como argumento)|\n",
    "|screenshot_as_base64|Obtém a captura de tela do elemento atual como uma string codificada em base64.|\n",
    "|screenshot_as_png|Obtém a captura de tela do elemento atual como dados binários.|\n",
    "|send_keys|Digitação do teclado, envia o texto passado como argumento para o elemento|\n",
    "|shadow_root|Retorna o shadow_root do elemento ou um erro NoSuchShadowRoot caso não tenha| \n",
    "|size|Tamanho do elemento|\n",
    "|submit|Botão de submit de formulário|\n",
    "|tag_name|Retorna o tipo de tag|\n",
    "|text|Valor de texto do elemento|\n",
    "|value_of_css_property|Retorna o valor da propriedade CSS|"
   ]
  }
 ],
 "metadata": {
  "kernelspec": {
   "display_name": "venv",
   "language": "python",
   "name": "python3"
  },
  "language_info": {
   "codemirror_mode": {
    "name": "ipython",
    "version": 3
   },
   "file_extension": ".py",
   "mimetype": "text/x-python",
   "name": "python",
   "nbconvert_exporter": "python",
   "pygments_lexer": "ipython3",
   "version": "3.10.4"
  }
 },
 "nbformat": 4,
 "nbformat_minor": 2
}
