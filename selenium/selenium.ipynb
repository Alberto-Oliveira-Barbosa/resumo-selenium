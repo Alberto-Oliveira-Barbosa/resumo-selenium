{
 "cells": [
  {
   "cell_type": "markdown",
   "metadata": {},
   "source": [
    "# Selenium"
   ]
  },
  {
   "cell_type": "markdown",
   "metadata": {},
   "source": [
    "## Instanciando o webdriver\n"
   ]
  },
  {
   "cell_type": "markdown",
   "metadata": {},
   "source": [
    "O Selenium usa suas classes e um arquivo webdriver para automatizar os recursos do browser.\n",
    "\n",
    "- webdriver - É o arquivo que permite a automatização do browser  \n",
    "- service - Classe do Selenium que aponta a localização dos binários do webdriver  \n",
    "\n",
    "Isso acarretava um problema de compatibilidade entre alguns computadores, pois era necessário que fosse feito o download do binário do driver compatível com a versão do navegador instalado no computador.\n",
    "\n",
    "```python\n",
    "    from Selenium import webdriver\n",
    "    from selenium.webdriver.chrome.service import Service\n",
    "\n",
    "    service = Service('path/chromedriver.exe')\n",
    "    # abre a instancia do navegador\n",
    "    driver = Webdriver.Chrome(service=service)\n",
    "```\n",
    "\n",
    "Uma alternativa a isso é utilizar a biblioteca [```webdriver-manager```](https://pypi.org/project/webdriver-manager/) que já faz o gerenciamento do driver correspondente ao navegador\n",
    "\n",
    "Importação na nova versão do Selenium:"
   ]
  },
  {
   "cell_type": "code",
   "execution_count": 2,
   "metadata": {},
   "outputs": [],
   "source": [
    "from selenium import webdriver\n",
    "from selenium.webdriver.chrome.service import Service\n",
    "from webdriver_manager.chrome import ChromeDriverManager\n",
    "\n",
    "service = Service(ChromeDriverManager().install())\n",
    "driver = webdriver.Chrome(service=service)"
   ]
  },
  {
   "cell_type": "code",
   "execution_count": 23,
   "metadata": {},
   "outputs": [],
   "source": [
    "# para abrir uma página podemos usar o método get, passando o link que será aberto pelo navegador\n",
    "driver.get('https://selenium-python.readthedocs.io/')"
   ]
  },
  {
   "cell_type": "markdown",
   "metadata": {},
   "source": [
    "## Navegando entre elementos na tela"
   ]
  },
  {
   "cell_type": "markdown",
   "metadata": {},
   "source": [
    "### Pegando elementos na tela\n",
    " "
   ]
  },
  {
   "cell_type": "markdown",
   "metadata": {},
   "source": [
    "\n",
    "Para [capturar um elemento na tela](https://selenium-python.readthedocs.io/locating-elements.html) temos dois métodos principais:\n",
    "\n",
    "`find_element` e `find_elements` que retornam um elemento único e uma lista de elementos respectivamente.\n",
    "\n",
    "Alem de apontar que estamos solicitando um elemento na tela, devemos informar o ***modo como deverá ser buscado*** esse elemento com a classe `By` do Selenium \n",
    "```python\n",
    "    from selenium.webdriver.common.by import By\n",
    "```\n",
    "\n",
    "| Atributos da classe By      | Descrição |\n",
    "| ----------- | ----------- |\n",
    "| ID | Busca pelo atributo id       |\n",
    "| NAME | Busca pela atributo name  |\n",
    "| LINK_TEXT | Busca no texto do link (texto exato)|\n",
    "| PARTIAL_LINK_TEXT | Busca em parte do texto do link |\n",
    "| XPATH | Busca pelo xpath do elemento |\n",
    "| TAG_NAME | Busca pelo nome da tag do elemento (e.g. \"h1\") |\n",
    "| CLASS_NAME | Busca o elemento pela sua classe css |\n",
    "| CSS_SELECTOR | Busca pela sua sintaxe CSS (e.g. uma tag \\<p> com uma class='content' -> driver.find_element(By.CSS_SELECTOR, 'p.content'))|\n"
   ]
  },
  {
   "cell_type": "code",
   "execution_count": 16,
   "metadata": {},
   "outputs": [],
   "source": [
    "from selenium.webdriver.common.by import By\n",
    "\n",
    "# Encontrando um unico elemento\n",
    "driver.find_element(By.LINK_TEXT,\"4. Locating Elements\").click()"
   ]
  },
  {
   "cell_type": "code",
   "execution_count": 32,
   "metadata": {},
   "outputs": [
    {
     "name": "stdout",
     "output_type": "stream",
     "text": [
      "4. Locating Elements\n",
      "4.1. Locating by Id\n",
      "4.2. Locating by Name\n",
      "4.3. Locating by XPath\n",
      "4.4. Locating Hyperlinks by Link Text\n",
      "4.5. Locating Elements by Tag Name\n",
      "4.6. Locating Elements by Class Name\n",
      "4.7. Locating Elements by CSS Selectors\n",
      "4. Locating Elements\n"
     ]
    }
   ],
   "source": [
    "# encontrando vários elementos com find_elements\n",
    "elements_list = driver.find_elements(By.CLASS_NAME, \"toctree-l1\")\n",
    "\n",
    "for i in elements_list:\n",
    "    if 'LOCATING ELEMENTS' in i.text.upper():\n",
    "        print(i.text)"
   ]
  },
  {
   "cell_type": "markdown",
   "metadata": {},
   "source": [
    "### WebElement\n"
   ]
  },
  {
   "cell_type": "markdown",
   "metadata": {},
   "source": [
    "Os elementos capturados com o find elements são derivados da classe [Web Element](https://www.selenium.dev/selenium/docs/api/py/webdriver_remote/selenium.webdriver.remote.webelement.html) do Selenium, que representa um elemento DOM e possuem as funções de interação com campos e formulários\n",
    "\n",
    "\n",
    "|Function|Descrição|\n",
    "|---|---|\n",
    "|accessible_name| Retorna o nome assessível seguindo os princípios de [ARIA](https://developer.mozilla.org/en-US/docs/Web/Accessibility/ARIA)|\n",
    "|aria_role|Retorna a regra de acessibilidade [ARIA](https://developer.mozilla.org/en-US/docs/Web/Accessibility/ARIA)|\n",
    "|clear|Limpa o texto em um elemento de entrada de texto|\n",
    "|click|Clica no elemento|\n",
    "|find_element|Retorna um elemento buscado|\n",
    "|find_elements|Retorna uma lista de elementos|\n",
    "|get_attribute|Retorna o atributo fornecido|\n",
    "|get_dom_attribute|Retorna o atributo fornecido, este método retorna apenas atributos declarados na marcação HTML do elemento.|\n",
    "|get_property|Retorna a propriedade fornecida|\n",
    "|id|Retorna o identificador interno do Selenium|\n",
    "|is_displayed|Retorna se o elemento está visivel para o usuário|\n",
    "|is_enabled|Retorna se o elemento está habilitado|\n",
    "|is_selected|Retorna se o elemento está selecionado|\n",
    "|location|Retorna a localização do elemento na tela|\n",
    "|location_once_scrolled_into_view|Retorna onde um elemento está na tela para que possamos clicar nele. Este método deve fazer com que o elemento seja exibido|\n",
    "|parent|Referência interna à instância do WebDriver na qual este elemento foi encontrado|\n",
    "|rect|Um dicionário com o tamanho e localização do elemento.|\n",
    "|screenshot|Salva uma captura de tela com formato PNG (recebe o caminho de onde deve ser salvo a imagem como argumento)|\n",
    "|screenshot_as_base64|Obtém a captura de tela do elemento atual como uma string codificada em base64.|\n",
    "|screenshot_as_png|Obtém a captura de tela do elemento atual como dados binários.|\n",
    "|send_keys|Digitação do teclado, envia o texto passado como argumento para o elemento|\n",
    "|shadow_root|Retorna o shadow_root do elemento ou um erro NoSuchShadowRoot caso não tenha| \n",
    "|size|Tamanho do elemento|\n",
    "|submit|Botão de submit de formulário|\n",
    "|tag_name|Retorna o tipo de tag|\n",
    "|text|Valor de texto do elemento|\n",
    "|value_of_css_property|Retorna o valor da propriedade CSS|"
   ]
  },
  {
   "cell_type": "markdown",
   "metadata": {},
   "source": [
    "## Simulando a digitação em formulários e a interação da aplicação com o teclado"
   ]
  },
  {
   "cell_type": "code",
   "execution_count": 55,
   "metadata": {},
   "outputs": [],
   "source": [
    "from selenium import webdriver\n",
    "from selenium.webdriver.chrome.service import Service\n",
    "from webdriver_manager.chrome import ChromeDriverManager\n",
    "from selenium.webdriver.common.by import By\n",
    "from selenium.webdriver.common.keys import Keys\n",
    "from selenium.webdriver.support.select import Select\n",
    "\n",
    "service = Service(ChromeDriverManager().install())\n",
    "driver = webdriver.Chrome(service=service)\n",
    "\n",
    "\n",
    "driver.get('https://demo.automationtesting.in/Register.html')"
   ]
  },
  {
   "cell_type": "markdown",
   "metadata": {},
   "source": [
    "### Keys e send_keys"
   ]
  },
  {
   "attachments": {
    "image.png": {
     "image/png": "[encoded data removed]"
    }
   },
   "cell_type": "markdown",
   "metadata": {},
   "source": [
    "É possível enviar textos para um componente com a função send_keys, passando uma string com o texto pretendido, ou usando a função KEYS para simular a digitação de uma tecla específica do teclado\n",
    "\n",
    "Importação:\n",
    "\n",
    "\n",
    "--- \n",
    "\n",
    "```python\n",
    "from selenium.webdriver.common.keys import Keys\n",
    "```\n",
    "\n",
    "--- \n",
    "\n",
    "<br>\n",
    "Para o exemplo a seguir considere os seguintes campos de formulário   \n",
    "\n",
    "\n",
    "\n",
    "![image.png](attachment:image.png)\n"
   ]
  },
  {
   "cell_type": "code",
   "execution_count": 57,
   "metadata": {},
   "outputs": [
    {
     "name": "stdout",
     "output_type": "stream",
     "text": [
      "Valor inicial dos elementos...\n",
      "First Name:  \n",
      "Last Name:  \n",
      "Valor após os send_keys...\n",
      "First Name:  Texto alterado\n",
      "Last Name:  Outro texto\n"
     ]
    }
   ],
   "source": [
    "driver.get('https://demo.automationtesting.in/Register.html')\n",
    "\n",
    "first_name = driver.find_element(By.XPATH, '//*[@id=\"basicBootstrapForm\"]/div[1]/div[1]/input')\n",
    "last_name = driver.find_element(By.XPATH, '//*[@id=\"basicBootstrapForm\"]/div[1]/div[2]/input')\n",
    "\n",
    "print('Valor inicial dos elementos...')\n",
    "print('First Name: ', first_name.get_attribute('value'))\n",
    "print('Last Name: ', last_name.get_attribute('value'))\n",
    "\n",
    "first_name.send_keys('Texto alterado')\n",
    "last_name.send_keys('Outro texto')\n",
    "\n",
    "print('Valor após os send_keys...')\n",
    "print('First Name: ', first_name.get_attribute('value'))\n",
    "print('Last Name: ', last_name.get_attribute('value'))\n"
   ]
  },
  {
   "cell_type": "code",
   "execution_count": 58,
   "metadata": {},
   "outputs": [
    {
     "name": "stdout",
     "output_type": "stream",
     "text": [
      "Valor inicial dos elementos...\n",
      "First Name:  \n",
      "Last Name:  \n",
      "Valor após os send_keys...\n",
      "First Name:  Texto alterado\n",
      "Last Name:  Acesso via tecla TAB\n"
     ]
    }
   ],
   "source": [
    "# similar ao exemplo anterior mas usando a combinação de textos com a tecla TAB do teclado\n",
    "driver.get('https://demo.automationtesting.in/Register.html')\n",
    "\n",
    "# atribui os elementos a uma variável\n",
    "first_name = driver.find_element(By.XPATH, '//*[@id=\"basicBootstrapForm\"]/div[1]/div[1]/input')\n",
    "last_name = driver.find_element(By.XPATH, '//*[@id=\"basicBootstrapForm\"]/div[1]/div[2]/input')\n",
    "\n",
    "print('Valor inicial dos elementos...')\n",
    "print('First Name: ', first_name.get_attribute('value'))\n",
    "print('Last Name: ', last_name.get_attribute('value'))\n",
    "\n",
    "# neste caso a interação será feita a partir do elemento de first_name\n",
    "first_name.send_keys('Texto alterado', Keys.TAB, 'Acesso via tecla TAB')\n",
    "\n",
    "\n",
    "print('Valor após os send_keys...')\n",
    "print('First Name: ', first_name.get_attribute('value'))\n",
    "print('Last Name: ', last_name.get_attribute('value'))\n"
   ]
  },
  {
   "cell_type": "markdown",
   "metadata": {},
   "source": [
    "### Get_attribute x Text\n"
   ]
  },
  {
   "cell_type": "markdown",
   "metadata": {},
   "source": [
    "\n",
    "\n",
    "***.get_attribute('value')*** --> Retorna o valor da propriedade `value`  \n",
    "***.text*** --> Retorna o `texto` do elemento\n",
    "\n",
    "\n",
    "Os dois métodos tem resultados similares dependendo de como foi desenvolvido os componentes do site.   \n"
   ]
  },
  {
   "attachments": {
    "image-2.png": {
     "image/png": "[encoded data removed]"
    }
   },
   "cell_type": "markdown",
   "metadata": {},
   "source": [
    "Como a maioria dos componentes do site usado de exemplo possui o mesmo conteúdo em text e Value, foi alterado manualmente o valor de text para exemplificar a diferença entre cada um dos dois: \n",
    "\n",
    "\n",
    "\n",
    "![image-2.png](attachment:image-2.png)\n"
   ]
  },
  {
   "cell_type": "code",
   "execution_count": 32,
   "metadata": {},
   "outputs": [
    {
     "data": {
      "text/plain": [
       "'Adobe InDesign'"
      ]
     },
     "execution_count": 32,
     "metadata": {},
     "output_type": "execute_result"
    }
   ],
   "source": [
    "# valor normalmente acessado no backend ou por algum tipo de função de leitura via código\n",
    "driver.find_element(By.XPATH, '//*[@id=\"Skills\"]/option[2]').get_attribute('value')"
   ]
  },
  {
   "cell_type": "code",
   "execution_count": 33,
   "metadata": {},
   "outputs": [
    {
     "data": {
      "text/plain": [
       "'InDesign'"
      ]
     },
     "execution_count": 33,
     "metadata": {},
     "output_type": "execute_result"
    }
   ],
   "source": [
    "# valor que fica visível para quem acessa o site\n",
    "driver.find_element(By.XPATH, '//*[@id=\"Skills\"]/option[2]').text"
   ]
  },
  {
   "cell_type": "markdown",
   "metadata": {},
   "source": [
    "### Multi-line e text-area"
   ]
  },
  {
   "cell_type": "markdown",
   "metadata": {},
   "source": [
    "Campos de text-area podem receber strings com mais de uma linha "
   ]
  },
  {
   "cell_type": "code",
   "execution_count": 66,
   "metadata": {},
   "outputs": [],
   "source": [
    "# simulando o ENTER para ira para a linha abaixo\n",
    "driver.get('https://demo.automationtesting.in/Register.html')\n",
    "area = driver.find_element(By.XPATH, '//*[@id=\"basicBootstrapForm\"]/div[2]/div/textarea')\n",
    "\n",
    "# apaga o texto do elemento caso exista\n",
    "area.clear()\n",
    "area.send_keys(\n",
    "    'Primeira Linha', Keys.ENTER, \n",
    "    'Segunda Linha', Keys.ENTER, \n",
    "    'Terceira Linha'\n",
    "    )"
   ]
  },
  {
   "cell_type": "code",
   "execution_count": 67,
   "metadata": {},
   "outputs": [],
   "source": [
    "driver.get('https://demo.automationtesting.in/Register.html')\n",
    "area = driver.find_element(By.XPATH, '//*[@id=\"basicBootstrapForm\"]/div[2]/div/textarea')\n",
    "\n",
    "# apaga o texto do elemento caso exista\n",
    "area.clear()\n",
    "\n",
    "# usando strings mult-line\n",
    "texto = \"\"\"Usando string com multiplas linhas\n",
    "Primeira linha\n",
    "Segunda Linha\n",
    "Terceira Linha\n",
    "\"\"\"\n",
    "area.send_keys(texto)"
   ]
  },
  {
   "cell_type": "markdown",
   "metadata": {},
   "source": [
    "### RadioButton e CheckBox"
   ]
  },
  {
   "cell_type": "markdown",
   "metadata": {},
   "source": [
    "São componentes usados para selecionar opções pelo usuário:\n",
    "- `RadioButton`: única seleção por grupo \n",
    "- `Checkbox`:  multipla seleções   "
   ]
  },
  {
   "cell_type": "code",
   "execution_count": 91,
   "metadata": {},
   "outputs": [
    {
     "name": "stdout",
     "output_type": "stream",
     "text": [
      "RadioButton\n",
      "botão:  Male\n",
      "Está selecionando:  False\n",
      "botão:  FeMale\n",
      "Está selecionando:  True\n"
     ]
    }
   ],
   "source": [
    "driver.get('https://demo.automationtesting.in/Register.html')\n",
    "\n",
    "radio_list = driver.find_elements(By.NAME, 'radiooptions')\n",
    "\n",
    "# seleciona todos os elementos\n",
    "for element in radio_list:\n",
    "    element.click()\n",
    "\n",
    "\n",
    "# mesmo tendo sido selecionado o o botão Male anteriormente\n",
    "# o radiobutton mantem apenas uma opção por grupo \n",
    "print('RadioButton')\n",
    "for element in radio_list:\n",
    "    print('botão: ',element.get_attribute('value'))\n",
    "    print('Está selecionando: ',element.is_selected())\n"
   ]
  },
  {
   "cell_type": "code",
   "execution_count": 90,
   "metadata": {},
   "outputs": [
    {
     "name": "stdout",
     "output_type": "stream",
     "text": [
      "Checkbox \n",
      "botão:  Cricket\n",
      "Está selecionando:  True\n",
      "botão:  Movies\n",
      "Está selecionando:  True\n",
      "botão:  Hockey\n",
      "Está selecionando:  False\n"
     ]
    }
   ],
   "source": [
    "from random import sample\n",
    "\n",
    "driver.get('https://demo.automationtesting.in/Register.html')\n",
    "\n",
    "\n",
    "check_list = list()\n",
    "\n",
    "for i in ['checkbox1', 'checkbox2', 'checkbox3']:\n",
    "    check_list.append(driver.find_element(By.ID, i))\n",
    "\n",
    "# seleciona aleatóriamente 2 valores\n",
    "for i in sample(check_list, 2):\n",
    "    i.click()\n",
    "\n",
    "print('Checkbox ')\n",
    "for element in check_list:\n",
    "    print('botão: ',element.get_attribute('value'))\n",
    "    print('Está selecionando: ',element.is_selected())\n"
   ]
  },
  {
   "cell_type": "markdown",
   "metadata": {},
   "source": [
    "### Select"
   ]
  },
  {
   "cell_type": "markdown",
   "metadata": {},
   "source": [
    "O Selenium nos dá opções mais avançadas pra tratar de campos do tipo select através da classe `Select`\n",
    "\n",
    "```python\n",
    "from selenium.webdriver.support.select import Select\n",
    "```"
   ]
  },
  {
   "cell_type": "code",
   "execution_count": 100,
   "metadata": {},
   "outputs": [],
   "source": [
    "select_element  = Select(driver.find_element(By.XPATH, '//*[@id=\"Skills\"]'))"
   ]
  },
  {
   "cell_type": "code",
   "execution_count": 103,
   "metadata": {},
   "outputs": [
    {
     "name": "stdout",
     "output_type": "stream",
     "text": [
      "Select Skills\n",
      "Adobe InDesign\n",
      "Adobe Photoshop\n",
      "Analytics\n",
      "Android\n",
      "APIs\n",
      "Art Design\n",
      "AutoCAD\n",
      "Backup Management\n",
      "C\n"
     ]
    }
   ],
   "source": [
    "# mostra as 10 primeiras opções de seleção\n",
    "for i in select_element.options[:10]:\n",
    "    print(i.text)"
   ]
  },
  {
   "cell_type": "code",
   "execution_count": 107,
   "metadata": {},
   "outputs": [],
   "source": [
    "# Opções específicas para seleção\n",
    "select_element.select_by_index(5)\n",
    "select_element.select_by_value('APIs')\n",
    "select_element.select_by_visible_text('APIs')"
   ]
  },
  {
   "cell_type": "code",
   "execution_count": 109,
   "metadata": {},
   "outputs": [
    {
     "data": {
      "text/plain": [
       "'APIs'"
      ]
     },
     "execution_count": 109,
     "metadata": {},
     "output_type": "execute_result"
    }
   ],
   "source": [
    "# pega a primeira seleção\n",
    "select_element.first_selected_option.text"
   ]
  },
  {
   "cell_type": "code",
   "execution_count": null,
   "metadata": {},
   "outputs": [],
   "source": []
  }
 ],
 "metadata": {
  "kernelspec": {
   "display_name": "venv",
   "language": "python",
   "name": "python3"
  },
  "language_info": {
   "codemirror_mode": {
    "name": "ipython",
    "version": 3
   },
   "file_extension": ".py",
   "mimetype": "text/x-python",
   "name": "python",
   "nbconvert_exporter": "python",
   "pygments_lexer": "ipython3",
   "version": "3.10.4"
  }
 },
 "nbformat": 4,
 "nbformat_minor": 2
}
